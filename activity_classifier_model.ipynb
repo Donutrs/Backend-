{
 "cells": [
  {
   "cell_type": "code",
   "execution_count": 16,
   "id": "e6b0df88-de9b-4dd6-8d97-e29623533a1d",
   "metadata": {
    "scrolled": true
   },
   "outputs": [
    {
     "name": "stdout",
     "output_type": "stream",
     "text": [
      "Requirement already satisfied: numpy in /opt/conda/lib/python3.11/site-packages (2.1.2)\n",
      "Requirement already satisfied: pandas in /opt/conda/lib/python3.11/site-packages (2.2.3)\n",
      "Requirement already satisfied: numpy>=1.23.2 in /opt/conda/lib/python3.11/site-packages (from pandas) (2.1.2)\n",
      "Requirement already satisfied: python-dateutil>=2.8.2 in /opt/conda/lib/python3.11/site-packages (from pandas) (2.9.0)\n",
      "Requirement already satisfied: pytz>=2020.1 in /opt/conda/lib/python3.11/site-packages (from pandas) (2024.1)\n",
      "Requirement already satisfied: tzdata>=2022.7 in /opt/conda/lib/python3.11/site-packages (from pandas) (2024.2)\n",
      "Requirement already satisfied: six>=1.5 in /opt/conda/lib/python3.11/site-packages (from python-dateutil>=2.8.2->pandas) (1.16.0)\n",
      "Requirement already satisfied: openpyxl in /opt/conda/lib/python3.11/site-packages (3.1.5)\n",
      "Requirement already satisfied: et-xmlfile in /opt/conda/lib/python3.11/site-packages (from openpyxl) (2.0.0)\n",
      "Requirement already satisfied: scikit-learn in /opt/conda/lib/python3.11/site-packages (1.5.2)\n",
      "Requirement already satisfied: numpy>=1.19.5 in /opt/conda/lib/python3.11/site-packages (from scikit-learn) (2.1.2)\n",
      "Requirement already satisfied: scipy>=1.6.0 in /opt/conda/lib/python3.11/site-packages (from scikit-learn) (1.14.1)\n",
      "Requirement already satisfied: joblib>=1.2.0 in /opt/conda/lib/python3.11/site-packages (from scikit-learn) (1.4.2)\n",
      "Requirement already satisfied: threadpoolctl>=3.1.0 in /opt/conda/lib/python3.11/site-packages (from scikit-learn) (3.5.0)\n",
      "Requirement already satisfied: matplotlib in /opt/conda/lib/python3.11/site-packages (3.9.2)\n",
      "Requirement already satisfied: contourpy>=1.0.1 in /opt/conda/lib/python3.11/site-packages (from matplotlib) (1.3.0)\n",
      "Requirement already satisfied: cycler>=0.10 in /opt/conda/lib/python3.11/site-packages (from matplotlib) (0.12.1)\n",
      "Requirement already satisfied: fonttools>=4.22.0 in /opt/conda/lib/python3.11/site-packages (from matplotlib) (4.54.1)\n",
      "Requirement already satisfied: kiwisolver>=1.3.1 in /opt/conda/lib/python3.11/site-packages (from matplotlib) (1.4.7)\n",
      "Requirement already satisfied: numpy>=1.23 in /opt/conda/lib/python3.11/site-packages (from matplotlib) (2.1.2)\n",
      "Requirement already satisfied: packaging>=20.0 in /opt/conda/lib/python3.11/site-packages (from matplotlib) (24.0)\n",
      "Requirement already satisfied: pillow>=8 in /opt/conda/lib/python3.11/site-packages (from matplotlib) (11.0.0)\n",
      "Requirement already satisfied: pyparsing>=2.3.1 in /opt/conda/lib/python3.11/site-packages (from matplotlib) (3.2.0)\n",
      "Requirement already satisfied: python-dateutil>=2.7 in /opt/conda/lib/python3.11/site-packages (from matplotlib) (2.9.0)\n",
      "Requirement already satisfied: six>=1.5 in /opt/conda/lib/python3.11/site-packages (from python-dateutil>=2.7->matplotlib) (1.16.0)\n",
      "Requirement already satisfied: Flask in /opt/conda/lib/python3.11/site-packages (3.0.3)\n",
      "Requirement already satisfied: joblib in /opt/conda/lib/python3.11/site-packages (1.4.2)\n",
      "Requirement already satisfied: Werkzeug>=3.0.0 in /opt/conda/lib/python3.11/site-packages (from Flask) (3.0.6)\n",
      "Requirement already satisfied: Jinja2>=3.1.2 in /opt/conda/lib/python3.11/site-packages (from Flask) (3.1.3)\n",
      "Requirement already satisfied: itsdangerous>=2.1.2 in /opt/conda/lib/python3.11/site-packages (from Flask) (2.2.0)\n",
      "Requirement already satisfied: click>=8.1.3 in /opt/conda/lib/python3.11/site-packages (from Flask) (8.1.7)\n",
      "Requirement already satisfied: blinker>=1.6.2 in /opt/conda/lib/python3.11/site-packages (from Flask) (1.8.1)\n",
      "Requirement already satisfied: MarkupSafe>=2.0 in /opt/conda/lib/python3.11/site-packages (from Jinja2>=3.1.2->Flask) (2.1.5)\n",
      "Collecting imblearn\n",
      "  Downloading imblearn-0.0-py2.py3-none-any.whl.metadata (355 bytes)\n",
      "Collecting imbalanced-learn (from imblearn)\n",
      "  Downloading imbalanced_learn-0.12.4-py3-none-any.whl.metadata (8.3 kB)\n",
      "Requirement already satisfied: numpy>=1.17.3 in /opt/conda/lib/python3.11/site-packages (from imbalanced-learn->imblearn) (2.1.2)\n",
      "Requirement already satisfied: scipy>=1.5.0 in /opt/conda/lib/python3.11/site-packages (from imbalanced-learn->imblearn) (1.14.1)\n",
      "Requirement already satisfied: scikit-learn>=1.0.2 in /opt/conda/lib/python3.11/site-packages (from imbalanced-learn->imblearn) (1.5.2)\n",
      "Requirement already satisfied: joblib>=1.1.1 in /opt/conda/lib/python3.11/site-packages (from imbalanced-learn->imblearn) (1.4.2)\n",
      "Requirement already satisfied: threadpoolctl>=2.0.0 in /opt/conda/lib/python3.11/site-packages (from imbalanced-learn->imblearn) (3.5.0)\n",
      "Downloading imblearn-0.0-py2.py3-none-any.whl (1.9 kB)\n",
      "Downloading imbalanced_learn-0.12.4-py3-none-any.whl (258 kB)\n",
      "\u001b[2K   \u001b[90m━━━━━━━━━━━━━━━━━━━━━━━━━━━━━━━━━━━━━━━━\u001b[0m \u001b[32m258.3/258.3 kB\u001b[0m \u001b[31m27.5 MB/s\u001b[0m eta \u001b[36m0:00:00\u001b[0m\n",
      "\u001b[?25hInstalling collected packages: imbalanced-learn, imblearn\n",
      "Successfully installed imbalanced-learn-0.12.4 imblearn-0.0\n"
     ]
    }
   ],
   "source": [
    "!pip install numpy \n",
    "!pip install pandas\n",
    "!pip install openpyxl\n",
    "!pip install scikit-learn\n",
    "!pip install matplotlib\n",
    "!pip install Flask joblib\n",
    "!pip install imblearn"
   ]
  },
  {
   "cell_type": "code",
   "execution_count": 17,
   "id": "a699a072-fc16-408d-b2bc-3df379aa6919",
   "metadata": {},
   "outputs": [],
   "source": [
    "import pandas as pd\n",
    "import numpy as np\n",
    "from imblearn.over_sampling import SMOTE\n",
    "from sklearn.model_selection import train_test_split\n",
    "from sklearn.model_selection import cross_val_score\n",
    "from sklearn.ensemble import RandomForestClassifier\n",
    "from sklearn.metrics import classification_report, accuracy_score\n",
    "import matplotlib.pyplot as plt\n",
    "import joblib\n",
    "from joblib import dump "
   ]
  },
  {
   "cell_type": "code",
   "execution_count": 27,
   "id": "25851118-bdae-49eb-8f51-dad142dd88e2",
   "metadata": {},
   "outputs": [],
   "source": [
    "file_path = 'Calvingdata_p4.xlsx'  \n",
    "df = pd.read_excel(file_path)\n",
    " \n",
    "df_cleaned = df.dropna().reset_index(drop=True)  "
   ]
  },
  {
   "cell_type": "code",
   "execution_count": 28,
   "id": "afb3d3bc-cbf2-44ca-8020-9758bbe9ab9c",
   "metadata": {},
   "outputs": [],
   "source": [
    "def calculate_tilt_angle(accel_x, accel_y, accel_z):\n",
    "    # Formula for tilt angle from accelerometer data (in degrees)\n",
    "    return np.arctan2(np.sqrt(accel_x**2 + accel_y**2), accel_z) * (180.0 / np.pi)\n",
    "\n",
    "# Calculate tilt angle for each row\n",
    "df_cleaned['tilt_angle'] = calculate_tilt_angle(df_cleaned['accel_x'], df_cleaned['accel_y'], df_cleaned['accel_z'])\n",
    "\n",
    "# Drop rows with NaN values in important columns\n",
    "df_cleaned = df_cleaned.dropna(subset=['tilt_angle', 'gyro_x', 'gyro_y', 'gyro_z'])\n",
    "\n",
    "# Rule-based classification for generating labels\n",
    "def classify_activity(row):\n",
    "    # Lying: Tilt angle between 70-90 degrees, and gyroscope values close to zero\n",
    "    if 70 <= row['tilt_angle'] <= 90 and np.abs(row[['gyro_x', 'gyro_y', 'gyro_z']]).max() < 0.5:\n",
    "        return 'Lying'\n",
    "    # Standing: Tilt angle less than 30 degrees, moderate gyroscope values\n",
    "    elif row['tilt_angle'] < 30:\n",
    "        return 'Standing'\n",
    "    # Sitting: Tilt angle between 30-70 degrees\n",
    "    else:\n",
    "        return 'Sitting'\n",
    "\n",
    "# Apply the classification to generate labels\n",
    "df_cleaned['label'] = df_cleaned.apply(classify_activity, axis=1)\n",
    "\n",
    "# Now define features and target\n",
    "X = df_cleaned[['accel_x', 'accel_z', 'tilt_angle']]  \n",
    "y = df_cleaned['label']  # Generated label"
   ]
  },
  {
   "cell_type": "code",
   "execution_count": 29,
   "id": "53a7db59-102b-442c-8f6a-02d1a754246e",
   "metadata": {},
   "outputs": [
    {
     "name": "stdout",
     "output_type": "stream",
     "text": [
      "Accuracy: 0.9979859013091642\n",
      "              precision    recall  f1-score   support\n",
      "\n",
      "     Sitting       1.00      1.00      1.00       505\n",
      "    Standing       1.00      1.00      1.00       488\n",
      "\n",
      "    accuracy                           1.00       993\n",
      "   macro avg       1.00      1.00      1.00       993\n",
      "weighted avg       1.00      1.00      1.00       993\n",
      "\n",
      "Cross-Validation Accuracy Scores: [1.    0.995 1.    1.    1.   ]\n",
      "Mean Cross-Validation Accuracy: 0.999\n"
     ]
    },
    {
     "data": {
      "text/plain": [
       "['activity_classifier_model.pkl']"
      ]
     },
     "execution_count": 29,
     "metadata": {},
     "output_type": "execute_result"
    }
   ],
   "source": [
    "# Initialize a Random Forest Classifier\n",
    "smote = SMOTE()\n",
    "X_resampled, y_resampled = smote.fit_resample(X, y)\n",
    "X_train, X_test, y_train, y_test = train_test_split(X_resampled, y_resampled, test_size=0.5, random_state=42)\n",
    "\n",
    "clf = RandomForestClassifier(n_estimators=100, random_state=42)\n",
    "\n",
    "# Train the classifier\n",
    "clf.fit(X_train, y_train)\n",
    "\n",
    "# Make predictions on the test set\n",
    "y_pred = clf.predict(X_test)\n",
    "\n",
    "\n",
    "print(\"Accuracy:\", accuracy_score(y_test, y_pred))\n",
    "print(classification_report(y_test, y_pred))\n",
    "cv_scores = cross_val_score(clf, X, y, cv=5)\n",
    "print(\"Cross-Validation Accuracy Scores:\", cv_scores)\n",
    "print(\"Mean Cross-Validation Accuracy:\", cv_scores.mean())\n",
    "\n",
    "joblib.dump(clf, 'activity_classifier_model.pkl')"
   ]
  },
  {
   "cell_type": "code",
   "execution_count": null,
   "id": "8e489a94-6e21-4f3b-b73b-5904f86d9ccb",
   "metadata": {},
   "outputs": [],
   "source": []
  }
 ],
 "metadata": {
  "kernelspec": {
   "display_name": "Python 3 (ipykernel)",
   "language": "python",
   "name": "python3"
  },
  "language_info": {
   "codemirror_mode": {
    "name": "ipython",
    "version": 3
   },
   "file_extension": ".py",
   "mimetype": "text/x-python",
   "name": "python",
   "nbconvert_exporter": "python",
   "pygments_lexer": "ipython3",
   "version": "3.11.9"
  }
 },
 "nbformat": 4,
 "nbformat_minor": 5
}
